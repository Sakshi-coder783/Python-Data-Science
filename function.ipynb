{
 "cells": [
  {
   "cell_type": "code",
   "execution_count": 9,
   "metadata": {},
   "outputs": [
    {
     "name": "stdout",
     "output_type": "stream",
     "text": [
      "hello from my_func\n"
     ]
    }
   ],
   "source": [
    "def  my_func():\n",
    "     print(\"hello from my_func\")\n",
    "my_func()"
   ]
  },
  {
   "cell_type": "code",
   "execution_count": 11,
   "metadata": {},
   "outputs": [
    {
     "name": "stdout",
     "output_type": "stream",
     "text": [
      "hello from my_func\n"
     ]
    }
   ],
   "source": [
    "my_func()"
   ]
  },
  {
   "cell_type": "code",
   "execution_count": 12,
   "metadata": {},
   "outputs": [
    {
     "name": "stdout",
     "output_type": "stream",
     "text": [
      "hello john \n"
     ]
    }
   ],
   "source": [
    "def name (name): #name is a parameter\n",
    "    print(\"hello\"+ name)\n",
    "name (\" john \") #john is an argument"
   ]
  },
  {
   "cell_type": "markdown",
   "metadata": {},
   "source": [
    "a 'return' "
   ]
  },
  {
   "cell_type": "code",
   "execution_count": 13,
   "metadata": {},
   "outputs": [
    {
     "name": "stdout",
     "output_type": "stream",
     "text": [
      "hello john \n",
      "None\n"
     ]
    }
   ],
   "source": [
    "a=name(\" john \")\n",
    "print(a) #NONE"
   ]
  },
  {
   "cell_type": "code",
   "execution_count": 15,
   "metadata": {},
   "outputs": [
    {
     "data": {
      "text/plain": [
       "15"
      ]
     },
     "execution_count": 15,
     "metadata": {},
     "output_type": "execute_result"
    }
   ],
   "source": [
    "#void function\n",
    "def func(x):\n",
    "    return 5*x\n",
    "func(3)"
   ]
  },
  {
   "cell_type": "code",
   "execution_count": 16,
   "metadata": {},
   "outputs": [
    {
     "name": "stdout",
     "output_type": "stream",
     "text": [
      "15\n"
     ]
    }
   ],
   "source": [
    "a=func(3)\n",
    "print(a)"
   ]
  },
  {
   "cell_type": "code",
   "execution_count": 17,
   "metadata": {},
   "outputs": [
    {
     "name": "stdout",
     "output_type": "stream",
     "text": [
      " I am from USA\n",
      " I am from UK\n",
      " I am from India\n",
      " I am from CANADA\n"
     ]
    }
   ],
   "source": [
    "#default parameterized function \n",
    "def  my_country( country = \"India\"):\n",
    "    print(\" I am from \" + country)\n",
    "my_country(\"USA\")\n",
    "my_country(\"UK\")\n",
    "my_country()\n",
    "my_country(\"CANADA\")\n"
   ]
  },
  {
   "cell_type": "code",
   "execution_count": 18,
   "metadata": {},
   "outputs": [
    {
     "name": "stdout",
     "output_type": "stream",
     "text": [
      "apple\n",
      "banana\n",
      "cherry\n"
     ]
    }
   ],
   "source": [
    "def fruits (fruit):\n",
    "    for x in fruit:\n",
    "        print(x)\n",
    "fruits([\"apple\",\"banana\",\"cherry\"])"
   ]
  },
  {
   "cell_type": "code",
   "execution_count": 2,
   "metadata": {},
   "outputs": [
    {
     "name": "stdout",
     "output_type": "stream",
     "text": [
      "even\n"
     ]
    }
   ],
   "source": [
    "def even_odd(a):\n",
    "    if a%2==0: \n",
    "        return \"even\"\n",
    "    else:\n",
    "        return \"odd\"\n",
    "number=int(input(\"enter any number:\"))\n",
    "num=even_odd(number)\n",
    "print(num)\n",
    "    "
   ]
  },
  {
   "cell_type": "code",
   "execution_count": 3,
   "metadata": {},
   "outputs": [
    {
     "name": "stdout",
     "output_type": "stream",
     "text": [
      "5\n"
     ]
    }
   ],
   "source": [
    "#lambda function\n",
    "add = lambda a,b :a+b\n",
    "print(add(2,3))"
   ]
  },
  {
   "cell_type": "code",
   "execution_count": 4,
   "metadata": {},
   "outputs": [
    {
     "name": "stdout",
     "output_type": "stream",
     "text": [
      "True\n"
     ]
    }
   ],
   "source": [
    "#even odd using lambda \n",
    "even = lambda a : a%2==0\n",
    "print(even(2))"
   ]
  },
  {
   "cell_type": "code",
   "execution_count": 5,
   "metadata": {},
   "outputs": [
    {
     "data": {
      "text/plain": [
       "('welcome', 'to', 'Digipodium')"
      ]
     },
     "execution_count": 5,
     "metadata": {},
     "output_type": "execute_result"
    }
   ],
   "source": [
    "def myfunc():\n",
    "    return \"welcome\",\"to\",\"Digipodium\"\n",
    "myfunc()"
   ]
  },
  {
   "cell_type": "code",
   "execution_count": 6,
   "metadata": {},
   "outputs": [
    {
     "name": "stdout",
     "output_type": "stream",
     "text": [
      "welcome\n",
      "to\n",
      "Digipodium\n"
     ]
    }
   ],
   "source": [
    "a, b, c = myfunc()\n",
    "print(a)\n",
    "print(b)\n",
    "print(c)\n"
   ]
  },
  {
   "cell_type": "markdown",
   "metadata": {},
   "source": [
    " . check a number is prime or not\n",
    " . convert temperature celcius to fahrenheit\n",
    " . find maximum of three number \n",
    " . calculate factorial\n",
    " . reverse of a string\n",
    " . count vowel in a string \n",
    "  . calculate BMI (body mass index)\n",
    " "
   ]
  },
  {
   "cell_type": "markdown",
   "metadata": {},
   "source": [
    "\n",
    "# built - in function\n"
   ]
  },
  {
   "cell_type": "code",
   "execution_count": 1,
   "metadata": {},
   "outputs": [],
   "source": [
    "import math \n"
   ]
  },
  {
   "cell_type": "code",
   "execution_count": 2,
   "metadata": {},
   "outputs": [
    {
     "name": "stdout",
     "output_type": "stream",
     "text": [
      "4.0\n",
      "120\n",
      "3.141592653589793\n",
      "12\n",
      "0.8939966636005579\n",
      "-0.4480736161291701\n",
      "24\n"
     ]
    }
   ],
   "source": [
    "print(math.sqrt(16))\n",
    "print(math.factorial(5))\n",
    "print(math.pi)\n",
    "print(math.gcd(12,24))\n",
    "print(math.sin(90))\n",
    "print(math.cos(90))\n",
    "print(math.lcm(12,24))"
   ]
  },
  {
   "cell_type": "code",
   "execution_count": 1,
   "metadata": {},
   "outputs": [],
   "source": [
    "from random import random , randint , choice , shuffle"
   ]
  },
  {
   "cell_type": "code",
   "execution_count": 5,
   "metadata": {},
   "outputs": [
    {
     "name": "stdout",
     "output_type": "stream",
     "text": [
      "get a random number between 0 and 2 : 0.121214161840973\n",
      "get a random integer between 0 and 2 : 0\n",
      "get a random element from a list : 2\n",
      "shuffle a list :  ['bob', 'john', 'Alice', 'smith']\n"
     ]
    }
   ],
   "source": [
    "print('get a random number between 0 and 2 :',random())\n",
    "print('get a random integer between 0 and 2 :',randint(0,2))\n",
    "print('get a random element from a list :',choice([1,2,3,4,5]))\n",
    "name = ['john','smith','Alice','bob']\n",
    "shuffle(name)\n",
    "print('shuffle a list : ', name)"
   ]
  },
  {
   "cell_type": "code",
   "execution_count": 6,
   "metadata": {},
   "outputs": [],
   "source": [
    "from datetime import datetime as dt "
   ]
  },
  {
   "cell_type": "code",
   "execution_count": 7,
   "metadata": {},
   "outputs": [
    {
     "name": "stdout",
     "output_type": "stream",
     "text": [
      "current Date :  2024-09-06 10:12:40.747399\n",
      "current Date : 2024-09-06\n",
      "current time : 10:12:40.747506\n"
     ]
    }
   ],
   "source": [
    "print('current Date : ' , dt.now())\n",
    "print('current Date :' , dt.now().date())\n",
    "print('current time :' , dt.now().time())\n"
   ]
  },
  {
   "cell_type": "code",
   "execution_count": 8,
   "metadata": {},
   "outputs": [
    {
     "name": "stdout",
     "output_type": "stream",
     "text": [
      "current year : 2024\n",
      "current month : 9\n",
      "current day : 6\n",
      "current hour : 10\n",
      "current minute : 20\n",
      "current second : 29\n",
      "current microsecond : 213320\n",
      "current weekday : 4\n"
     ]
    }
   ],
   "source": [
    "print('current year :', dt. now().year)\n",
    "print('current month :', dt.now().month)\n",
    "print('current day :', dt.now().day)\n",
    "print('current hour :', dt.now().hour)\n",
    "print('current minute :', dt.now().minute)\n",
    "print('current second :', dt.now().second)\n",
    "print('current microsecond :', dt.now().microsecond)\n",
    "print('current weekday :', dt.now().weekday())"
   ]
  },
  {
   "cell_type": "code",
   "execution_count": 9,
   "metadata": {},
   "outputs": [
    {
     "name": "stdout",
     "output_type": "stream",
     "text": [
      "current date : 06-09-24\n"
     ]
    }
   ],
   "source": [
    "date = dt.strftime(dt.now(),'%d-%m-%y')\n",
    "print('current date :',date)"
   ]
  },
  {
   "cell_type": "code",
   "execution_count": 12,
   "metadata": {},
   "outputs": [
    {
     "name": "stdout",
     "output_type": "stream",
     "text": [
      "current Time : 10:28:19\n"
     ]
    }
   ],
   "source": [
    "time = dt.strftime(dt.now() ,'%H:%M:%S')\n",
    "print('current Time :',time)"
   ]
  },
  {
   "cell_type": "code",
   "execution_count": 15,
   "metadata": {},
   "outputs": [],
   "source": [
    "import os #know about the folders,files, and directories"
   ]
  },
  {
   "cell_type": "code",
   "execution_count": 17,
   "metadata": {},
   "outputs": [
    {
     "name": "stdout",
     "output_type": "stream",
     "text": [
      "current folder: c:\\Users\\Lenovo\\OneDrive\\Desktop\\python 2024 august\n"
     ]
    }
   ],
   "source": [
    "print('current folder:',os.getcwd())"
   ]
  },
  {
   "cell_type": "code",
   "execution_count": 18,
   "metadata": {},
   "outputs": [
    {
     "name": "stdout",
     "output_type": "stream",
     "text": [
      "files and folders in current directory : ['.git', 'basic.ipynb', 'basics.py', 'condition.ipynb', 'DATA STRUCTURE', 'function.ipynb', 'loops.ipynb', 'operators.ipynb', 'practice.ipynb', 'variables.ipynb']\n"
     ]
    }
   ],
   "source": [
    "files = os.listdir() #list all files and folders in current directory\n",
    "print ('files and folders in current directory :' , files)"
   ]
  },
  {
   "cell_type": "code",
   "execution_count": 24,
   "metadata": {},
   "outputs": [
    {
     "name": "stdout",
     "output_type": "stream",
     "text": [
      "files and folders in AI-Extension-Project : ['.git', 'app.py', 'termplates']\n",
      "3\n"
     ]
    }
   ],
   "source": [
    "files=os.listdir(r\"C:\\Users\\Lenovo\\OneDrive\\Desktop\\customer classification\")\n",
    "print('files and folders in AI-Extension-Project :' , files)\n",
    "print(len(files))"
   ]
  },
  {
   "cell_type": "code",
   "execution_count": 25,
   "metadata": {},
   "outputs": [
    {
     "data": {
      "text/plain": [
       "<generator object walk at 0x000001FCFF76EE40>"
      ]
     },
     "execution_count": 25,
     "metadata": {},
     "output_type": "execute_result"
    }
   ],
   "source": [
    "os.walk('C:')"
   ]
  },
  {
   "cell_type": "code",
   "execution_count": 26,
   "metadata": {},
   "outputs": [
    {
     "name": "stdout",
     "output_type": "stream",
     "text": [
      "=> C:\n",
      "📁 ['.git', 'DATA STRUCTURE']\n",
      "📄 ['basic.ipynb', 'basics.py', 'condition.ipynb', 'function.ipynb', 'loops.ipynb', 'operators.ipynb', 'practice.ipynb', 'variables.ipynb', 'Visual Studio Code.lnk', 'VSCodeUserSetup-x64-1.92.0.exe']\n",
      "total files : 10\n",
      "=> C:.git\n",
      "📁 ['hooks', 'info', 'logs', 'objects', 'refs']\n",
      "📄 ['COMMIT_EDITMSG', 'config', 'description', 'FETCH_HEAD', 'HEAD', 'index']\n",
      "total files : 16\n",
      "=> C:.git\\hooks\n",
      "📁 []\n",
      "📄 ['applypatch-msg.sample', 'commit-msg.sample', 'fsmonitor-watchman.sample', 'post-update.sample', 'pre-applypatch.sample', 'pre-commit.sample', 'pre-merge-commit.sample', 'pre-push.sample', 'pre-rebase.sample', 'pre-receive.sample', 'prepare-commit-msg.sample', 'push-to-checkout.sample', 'sendemail-validate.sample', 'update.sample']\n",
      "total files : 30\n",
      "=> C:.git\\info\n",
      "📁 []\n",
      "📄 ['exclude']\n",
      "total files : 31\n",
      "=> C:.git\\logs\n",
      "📁 ['refs']\n",
      "📄 ['HEAD']\n",
      "total files : 32\n",
      "=> C:.git\\logs\\refs\n",
      "📁 ['heads', 'remotes']\n",
      "📄 []\n",
      "total files : 32\n",
      "=> C:.git\\logs\\refs\\heads\n",
      "📁 []\n",
      "📄 ['main']\n",
      "total files : 33\n",
      "=> C:.git\\logs\\refs\\remotes\n",
      "📁 ['origin']\n",
      "📄 []\n",
      "total files : 33\n",
      "=> C:.git\\logs\\refs\\remotes\\origin\n",
      "📁 []\n",
      "📄 ['main']\n",
      "total files : 34\n",
      "=> C:.git\\objects\n",
      "📁 ['00', '07', '09', '0d', '0f', '15', '16', '1d', '23', '25', '27', '28', '29', '2d', '38', '3d', '41', '49', '56', '5b', '5d', '62', '6c', '72', '73', '75', '77', '7d', '82', '86', '8c', '8d', '92', '9f', 'a6', 'aa', 'ac', 'b3', 'b7', 'c6', 'c7', 'c9', 'cf', 'd0', 'e2', 'e3', 'e6', 'ea', 'f0', 'fa', 'fb', 'fc', 'info', 'pack']\n",
      "📄 []\n",
      "total files : 34\n",
      "=> C:.git\\objects\\00\n",
      "📁 []\n",
      "📄 ['6979ef1a6930c7938c5a0decb1fff957480ed6', '950d9ac57ceeabf45f9120c2615199746d35fb']\n",
      "total files : 36\n",
      "=> C:.git\\objects\\07\n",
      "📁 []\n",
      "📄 ['078c5102d50349694f08100b80b12c8acaf0de']\n",
      "total files : 37\n",
      "=> C:.git\\objects\\09\n",
      "📁 []\n",
      "📄 ['fb16bfe088c695375197defd72473f79b49b5a']\n",
      "total files : 38\n",
      "=> C:.git\\objects\\0d\n",
      "📁 []\n",
      "📄 ['97a3d634235bdb6fd7d5936d592c81699a756c']\n",
      "total files : 39\n",
      "=> C:.git\\objects\\0f\n",
      "📁 []\n",
      "📄 ['98ee085dcbd9929854112ef1fd7bc0578c0cac']\n",
      "total files : 40\n",
      "=> C:.git\\objects\\15\n",
      "📁 []\n",
      "📄 ['4698f146556d5d1c147073b917b62c4fa3ac4e']\n",
      "total files : 41\n",
      "=> C:.git\\objects\\16\n",
      "📁 []\n",
      "📄 ['06ebf6ba77239b856169657bc70cff52309e6c']\n",
      "total files : 42\n",
      "=> C:.git\\objects\\1d\n",
      "📁 []\n",
      "📄 ['8018dc54ffa620a5cf8f8353b805ae9cb23594']\n",
      "total files : 43\n",
      "=> C:.git\\objects\\23\n",
      "📁 []\n",
      "📄 ['af8704ed4ba570a49cbee1affb6e47b047c347']\n",
      "total files : 44\n",
      "=> C:.git\\objects\\25\n",
      "📁 []\n",
      "📄 ['d770cd840391e9dc5bb58fcfe24a61e3888d52']\n",
      "total files : 45\n",
      "=> C:.git\\objects\\27\n",
      "📁 []\n",
      "📄 ['8f70b5eb712e5c822dbb3218d7aba6a4dd2afc', '99b8bcd9d5dea7b5fb86b4219d9a6d6366a24a']\n",
      "total files : 47\n",
      "=> C:.git\\objects\\28\n",
      "📁 []\n",
      "📄 ['34513dcc2af6208710f79eb90626c6aa769792']\n",
      "total files : 48\n",
      "=> C:.git\\objects\\29\n",
      "📁 []\n",
      "📄 ['fc8947e7a3fce6653a2526bdc56a0021166057']\n",
      "total files : 49\n",
      "=> C:.git\\objects\\2d\n",
      "📁 []\n",
      "📄 ['55fc3ce301de32643e31cb128effe5d2295494']\n",
      "total files : 50\n",
      "=> C:.git\\objects\\38\n",
      "📁 []\n",
      "📄 ['82be361c8d76e465a8d4a6fe94d46280f04cf6']\n",
      "total files : 51\n",
      "=> C:.git\\objects\\3d\n",
      "📁 []\n",
      "📄 ['aa69884095425bfcee65894699b1ce70fc1b58']\n",
      "total files : 52\n",
      "=> C:.git\\objects\\41\n",
      "📁 []\n",
      "📄 ['c0fee3277d3ca5fffe4a7ad09eb64b692218a2']\n",
      "total files : 53\n",
      "=> C:.git\\objects\\49\n",
      "📁 []\n",
      "📄 ['0d7db1f0ea27b333696b27a26a43035f1b5f13']\n",
      "total files : 54\n",
      "=> C:.git\\objects\\56\n",
      "📁 []\n",
      "📄 ['265949fe1f27664abe3cc6feb6df7a1f0b3ac3']\n",
      "total files : 55\n",
      "=> C:.git\\objects\\5b\n",
      "📁 []\n",
      "📄 ['17aea27be0bd477db62dd07135116999587c25']\n",
      "total files : 56\n",
      "=> C:.git\\objects\\5d\n",
      "📁 []\n",
      "📄 ['12209a04adbb42e1c91ce0625d0f148c89b91b']\n",
      "total files : 57\n",
      "=> C:.git\\objects\\62\n",
      "📁 []\n",
      "📄 ['d0bfee31f851319e5b10119e22f763db6b63cb']\n",
      "total files : 58\n",
      "=> C:.git\\objects\\6c\n",
      "📁 []\n",
      "📄 ['712f0d89638e4f2d60eabad3e5e9dbc0c2cfc9']\n",
      "total files : 59\n",
      "=> C:.git\\objects\\72\n",
      "📁 []\n",
      "📄 ['335f7677678e13151db382279e587917099e8b']\n",
      "total files : 60\n",
      "=> C:.git\\objects\\73\n",
      "📁 []\n",
      "📄 ['046aa506b243d6cba57b9b9527f21e3a049a69']\n",
      "total files : 61\n",
      "=> C:.git\\objects\\75\n",
      "📁 []\n",
      "📄 ['518a21f7d5b14f03126cdd9438612a02cf75ec']\n",
      "total files : 62\n",
      "=> C:.git\\objects\\77\n",
      "📁 []\n",
      "📄 ['2192098655cdbf6172c6a5b9232b4a13fd120c']\n",
      "total files : 63\n",
      "=> C:.git\\objects\\7d\n",
      "📁 []\n",
      "📄 ['7e504514719a9ae2c3c8b276d2b7a7df55e12e']\n",
      "total files : 64\n",
      "=> C:.git\\objects\\82\n",
      "📁 []\n",
      "📄 ['41f11514a7fd4efa8d31f62aa376b09ea06fb2']\n",
      "total files : 65\n",
      "=> C:.git\\objects\\86\n",
      "📁 []\n",
      "📄 ['f0a6074de30285954788508c4d2825628a888d']\n",
      "total files : 66\n",
      "=> C:.git\\objects\\8c\n",
      "📁 []\n",
      "📄 ['73b01d0c95dd0efd8a85dfc5588671b5868f5a']\n",
      "total files : 67\n",
      "=> C:.git\\objects\\8d\n",
      "📁 []\n",
      "📄 ['920325da24053559a92eb5b33f0a7bdc1c92fd']\n",
      "total files : 68\n",
      "=> C:.git\\objects\\92\n",
      "📁 []\n",
      "📄 ['8d591e13e6d01984213c6bfa20ed814033f823']\n",
      "total files : 69\n",
      "=> C:.git\\objects\\9f\n",
      "📁 []\n",
      "📄 ['03b60e055e0aa8f55656633ce355c4417ce450']\n",
      "total files : 70\n",
      "=> C:.git\\objects\\a6\n",
      "📁 []\n",
      "📄 ['b5f8c344b64adc5ac8bc76ca027b2e55709009']\n",
      "total files : 71\n",
      "=> C:.git\\objects\\aa\n",
      "📁 []\n",
      "📄 ['beabd97d3b166cbfadfa17b24d369684d716e7']\n",
      "total files : 72\n",
      "=> C:.git\\objects\\ac\n",
      "📁 []\n",
      "📄 ['40d8791463355de8a8b902a3312a2f855f995c']\n",
      "total files : 73\n",
      "=> C:.git\\objects\\b3\n",
      "📁 []\n",
      "📄 ['01efc92d17141f0b1be617e07860935df044de', 'c72c0fc9892a93194c9541b55dbf667caf40a3']\n",
      "total files : 75\n",
      "=> C:.git\\objects\\b7\n",
      "📁 []\n",
      "📄 ['40622eb63adae9f547746f2b32a7aaa5c64812']\n",
      "total files : 76\n",
      "=> C:.git\\objects\\c6\n",
      "📁 []\n",
      "📄 ['5b2c320a8c0e8c52dd1c87a8ad3d32ee2ebeb8']\n",
      "total files : 77\n",
      "=> C:.git\\objects\\c7\n",
      "📁 []\n",
      "📄 ['f8241b35a51ae657ba5ac3f8860d639244aea1']\n",
      "total files : 78\n",
      "=> C:.git\\objects\\c9\n",
      "📁 []\n",
      "📄 ['150b4928b8117d46fce501ce089e4ab1cfaa12']\n",
      "total files : 79\n",
      "=> C:.git\\objects\\cf\n",
      "📁 []\n",
      "📄 ['a847f12c383a1294fad734b3c5db4bf5058c4b']\n",
      "total files : 80\n",
      "=> C:.git\\objects\\d0\n",
      "📁 []\n",
      "📄 ['2d965955cc05daf3840c9fb21877052f76da6d']\n",
      "total files : 81\n",
      "=> C:.git\\objects\\e2\n",
      "📁 []\n",
      "📄 ['6bfcfcac8c9bdc3ab0ac07a8eb24d5e004e6a6']\n",
      "total files : 82\n",
      "=> C:.git\\objects\\e3\n",
      "📁 []\n",
      "📄 ['02e321bf44cbcf987642619c35a0b496334266']\n",
      "total files : 83\n",
      "=> C:.git\\objects\\e6\n",
      "📁 []\n",
      "📄 ['9de29bb2d1d6434b8b29ae775ad8c2e48c5391']\n",
      "total files : 84\n",
      "=> C:.git\\objects\\ea\n",
      "📁 []\n",
      "📄 ['7a9e17ad104ed100bd61e4eab21f89b7466c01']\n",
      "total files : 85\n",
      "=> C:.git\\objects\\f0\n",
      "📁 []\n",
      "📄 ['20f3a1eb093684c58f660e920a375f7aeaf70a']\n",
      "total files : 86\n",
      "=> C:.git\\objects\\fa\n",
      "📁 []\n",
      "📄 ['cbb4bc434c2c72e49f720d04cb8acf247161a7']\n",
      "total files : 87\n",
      "=> C:.git\\objects\\fb\n",
      "📁 []\n",
      "📄 ['018fa2e94f77215bd9a3c969bb6ed83cdd348f']\n",
      "total files : 88\n",
      "=> C:.git\\objects\\fc\n",
      "📁 []\n",
      "📄 ['2d72d250a0a9c2fc27abb9a37b609070d86b47']\n",
      "total files : 89\n",
      "=> C:.git\\objects\\info\n",
      "📁 []\n",
      "📄 []\n",
      "total files : 89\n",
      "=> C:.git\\objects\\pack\n",
      "📁 []\n",
      "📄 []\n",
      "total files : 89\n",
      "=> C:.git\\refs\n",
      "📁 ['heads', 'remotes', 'tags']\n",
      "📄 []\n",
      "total files : 89\n",
      "=> C:.git\\refs\\heads\n",
      "📁 []\n",
      "📄 ['main']\n",
      "total files : 90\n",
      "=> C:.git\\refs\\remotes\n",
      "📁 ['origin']\n",
      "📄 []\n",
      "total files : 90\n",
      "=> C:.git\\refs\\remotes\\origin\n",
      "📁 []\n",
      "📄 ['main']\n",
      "total files : 91\n",
      "=> C:.git\\refs\\tags\n",
      "📁 []\n",
      "📄 []\n",
      "total files : 91\n",
      "=> C:DATA STRUCTURE\n",
      "📁 []\n",
      "📄 ['dictionary.ipynb', 'list.ipynb', 'string.ipynb']\n",
      "total files : 94\n"
     ]
    }
   ],
   "source": [
    "total_files=0\n",
    "for path, folders, files in os.walk('C:'):\n",
    "    print('=>',path)\n",
    "    print('📁',folders)\n",
    "    print('📄',files)\n",
    "    total_files += len (files)\n",
    "    print('total files :',total_files)"
   ]
  },
  {
   "cell_type": "code",
   "execution_count": 29,
   "metadata": {},
   "outputs": [
    {
     "name": "stdout",
     "output_type": "stream",
     "text": [
      "folder exsits\n"
     ]
    }
   ],
   "source": [
    "files= r\"C:\\Users\\Lenovo\\OneDrive\\Desktop\\customer classification\"\n",
    "if os.path.exists(files):\n",
    "    print('folder exsits')\n",
    "else:\n",
    "    print('folder does not exsist')\n"
   ]
  },
  {
   "cell_type": "code",
   "execution_count": 30,
   "metadata": {},
   "outputs": [
    {
     "name": "stdout",
     "output_type": "stream",
     "text": [
      "folder exsits\n",
      "size in bytes : 4096 bytes\n",
      "size in KB: 4.0 KB\n",
      "size in MB: 0.00390625 MB\n",
      "size in GB: 3.814697265625e-06 GB\n"
     ]
    }
   ],
   "source": [
    "files= r\"C:\\Users\\Lenovo\\OneDrive\\Desktop\\customer classification\"\n",
    "if os.path.exists(files):\n",
    "    print('folder exsits')\n",
    "    size = os.path.getsize(files)\n",
    "    print('size in bytes :', size , 'bytes')\n",
    "    print('size in KB:',size/1024,'KB')\n",
    "    print('size in MB:',size/1024/1024,'MB')\n",
    "    print('size in GB:',size/1024/1024/1024,'GB')\n"
   ]
  },
  {
   "cell_type": "code",
   "execution_count": null,
   "metadata": {},
   "outputs": [],
   "source": []
  }
 ],
 "metadata": {
  "kernelspec": {
   "display_name": "base",
   "language": "python",
   "name": "python3"
  },
  "language_info": {
   "codemirror_mode": {
    "name": "ipython",
    "version": 3
   },
   "file_extension": ".py",
   "mimetype": "text/x-python",
   "name": "python",
   "nbconvert_exporter": "python",
   "pygments_lexer": "ipython3",
   "version": "3.12.4"
  }
 },
 "nbformat": 4,
 "nbformat_minor": 2
}
