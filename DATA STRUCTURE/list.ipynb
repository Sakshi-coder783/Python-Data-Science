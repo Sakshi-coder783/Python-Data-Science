{
 "cells": [
  {
   "cell_type": "markdown",
   "metadata": {},
   "source": [
    "#### INDEXING"
   ]
  },
  {
   "cell_type": "code",
   "execution_count": 1,
   "metadata": {},
   "outputs": [
    {
     "name": "stdout",
     "output_type": "stream",
     "text": [
      "['google', 'zomato', 'swiggy', 'zepto', 'ola', 'uber', 'rapido', 'instagram', 'whatsapp', 'facebook', 'uber', 'chrome']\n"
     ]
    }
   ],
   "source": [
    "apps = ['google','zomato','swiggy','zepto','ola','uber','rapido','instagram','whatsapp','facebook','uber','chrome']\n",
    "print(apps)"
   ]
  },
  {
   "cell_type": "code",
   "execution_count": 3,
   "metadata": {},
   "outputs": [
    {
     "name": "stdout",
     "output_type": "stream",
     "text": [
      "swiggy\n",
      "whatsapp\n",
      "facebook\n",
      "rapido\n"
     ]
    }
   ],
   "source": [
    "print(apps[2])\n",
    "print(apps[8])\n",
    "print(apps[-3])\n",
    "print(apps[-6])"
   ]
  },
  {
   "cell_type": "markdown",
   "metadata": {},
   "source": [
    "#### SLICING\n"
   ]
  },
  {
   "cell_type": "code",
   "execution_count": 5,
   "metadata": {},
   "outputs": [
    {
     "name": "stdout",
     "output_type": "stream",
     "text": [
      "['swiggy', 'zepto', 'ola', 'uber', 'rapido', 'instagram']\n",
      "['google', 'swiggy', 'ola', 'rapido', 'whatsapp', 'uber']\n",
      "['google', 'zomato', 'swiggy', 'zepto', 'ola', 'uber']\n",
      "['zepto', 'ola', 'uber', 'rapido', 'instagram', 'whatsapp', 'facebook', 'uber', 'chrome']\n",
      "['google', 'swiggy', 'ola', 'rapido', 'whatsapp', 'uber']\n",
      "['google', 'zomato', 'swiggy', 'zepto', 'ola', 'uber', 'rapido', 'instagram', 'whatsapp', 'facebook', 'uber', 'chrome']\n"
     ]
    }
   ],
   "source": [
    "print(apps[2:8])\n",
    "print(apps[0:12:2])\n",
    "print(apps[:6])\n",
    "print(apps[3:])\n",
    "print(apps[::2])\n",
    "print(apps[:])\n"
   ]
  },
  {
   "cell_type": "markdown",
   "metadata": {},
   "source": [
    "#### LIST METHOD\n",
    " - append()\n",
    " - insert()\n",
    " - pop()\n",
    " - remove()\n",
    " - sort()\n",
    " - reverse()\n",
    " - extend()\n",
    " - copy()\n",
    " - clear()"
   ]
  },
  {
   "cell_type": "code",
   "execution_count": 6,
   "metadata": {},
   "outputs": [
    {
     "name": "stdout",
     "output_type": "stream",
     "text": [
      "['google', 'zomato', 'swiggy', 'zepto', 'ola', 'uber', 'rapido', 'instagram', 'whatsapp', 'facebook', 'uber', 'chrome']\n"
     ]
    }
   ],
   "source": [
    "print (apps)"
   ]
  },
  {
   "cell_type": "code",
   "execution_count": 7,
   "metadata": {},
   "outputs": [
    {
     "name": "stdout",
     "output_type": "stream",
     "text": [
      "['google', 'zomato', 'swiggy', 'zepto', 'ola', 'uber', 'rapido', 'instagram', 'whatsapp', 'facebook', 'uber', 'chrome', 'snapchat']\n"
     ]
    }
   ],
   "source": [
    "apps . append('snapchat')\n",
    "print(apps)"
   ]
  },
  {
   "cell_type": "code",
   "execution_count": 8,
   "metadata": {},
   "outputs": [
    {
     "name": "stdout",
     "output_type": "stream",
     "text": [
      "['google', 'zomato', 'swiggy', 'zepto', 'phonepay', 'ola', 'uber', 'rapido', 'instagram', 'whatsapp', 'facebook', 'uber', 'chrome', 'snapchat']\n"
     ]
    }
   ],
   "source": [
    "apps .insert (4,'phonepay')\n",
    "print(apps)"
   ]
  },
  {
   "cell_type": "code",
   "execution_count": 11,
   "metadata": {},
   "outputs": [
    {
     "name": "stdout",
     "output_type": "stream",
     "text": [
      "['google', 'zomato', 'swiggy', 'zepto', 'uber', 'rapido', 'instagram', 'whatsapp', 'facebook', 'uber', 'chrome', 'snapchat']\n"
     ]
    }
   ],
   "source": [
    "apps .pop(4)\n",
    "print(apps)"
   ]
  },
  {
   "cell_type": "code",
   "execution_count": 15,
   "metadata": {},
   "outputs": [
    {
     "name": "stdout",
     "output_type": "stream",
     "text": [
      "['google', 'zomato', 'swiggy', 'zepto', 'rapido', 'instagram', 'whatsapp', 'facebook', 'uber', 'chrome', 'snapchat']\n"
     ]
    }
   ],
   "source": [
    "apps.remove('uber')\n",
    "print(apps)"
   ]
  },
  {
   "cell_type": "code",
   "execution_count": 16,
   "metadata": {},
   "outputs": [
    {
     "name": "stdout",
     "output_type": "stream",
     "text": [
      "['chrome', 'facebook', 'google', 'instagram', 'rapido', 'snapchat', 'swiggy', 'uber', 'whatsapp', 'zepto', 'zomato']\n"
     ]
    }
   ],
   "source": [
    "apps.sort()\n",
    "print (apps)"
   ]
  },
  {
   "cell_type": "code",
   "execution_count": 17,
   "metadata": {},
   "outputs": [
    {
     "name": "stdout",
     "output_type": "stream",
     "text": [
      "['zomato', 'zepto', 'whatsapp', 'uber', 'swiggy', 'snapchat', 'rapido', 'instagram', 'google', 'facebook', 'chrome']\n"
     ]
    }
   ],
   "source": [
    "apps.reverse()\n",
    "print(apps)"
   ]
  },
  {
   "cell_type": "code",
   "execution_count": 20,
   "metadata": {},
   "outputs": [
    {
     "name": "stdout",
     "output_type": "stream",
     "text": [
      "['zomato', 'zepto', 'whatsapp', 'uber', 'swiggy', 'snapchat', 'rapido', 'instagram', 'google', 'facebook', 'chrome', 'calendar', 'twitter', 'maps', 'youtube']\n"
     ]
    }
   ],
   "source": [
    "apps2 = ['calendar','twitter','maps','youtube']\n",
    "apps.extend(apps2)\n",
    "print(apps)\n"
   ]
  },
  {
   "cell_type": "code",
   "execution_count": 27,
   "metadata": {},
   "outputs": [
    {
     "name": "stdout",
     "output_type": "stream",
     "text": [
      "['calendar', 'twitter', 'maps', 'youtube', 'git']\n"
     ]
    }
   ],
   "source": [
    "apps2 = ['calendar','twitter','maps','youtube','git']\n",
    "print(apps2)"
   ]
  },
  {
   "cell_type": "code",
   "execution_count": 28,
   "metadata": {},
   "outputs": [
    {
     "name": "stdout",
     "output_type": "stream",
     "text": [
      "['calendar', 'twitter', 'maps', 'youtube', 'git']\n"
     ]
    }
   ],
   "source": [
    "apps2.extend(apps)\n",
    "print(apps2)"
   ]
  },
  {
   "cell_type": "code",
   "execution_count": 30,
   "metadata": {},
   "outputs": [
    {
     "name": "stdout",
     "output_type": "stream",
     "text": [
      "[]\n"
     ]
    }
   ],
   "source": [
    "b = apps.copy()\n",
    "print(b)"
   ]
  },
  {
   "cell_type": "code",
   "execution_count": 31,
   "metadata": {},
   "outputs": [
    {
     "name": "stdout",
     "output_type": "stream",
     "text": [
      "[]\n"
     ]
    }
   ],
   "source": [
    "apps.clear()\n",
    "print(apps)"
   ]
  },
  {
   "cell_type": "code",
   "execution_count": 32,
   "metadata": {},
   "outputs": [
    {
     "name": "stdout",
     "output_type": "stream",
     "text": [
      "[]\n"
     ]
    }
   ],
   "source": [
    "print(b)"
   ]
  }
 ],
 "metadata": {
  "kernelspec": {
   "display_name": "base",
   "language": "python",
   "name": "python3"
  },
  "language_info": {
   "codemirror_mode": {
    "name": "ipython",
    "version": 3
   },
   "file_extension": ".py",
   "mimetype": "text/x-python",
   "name": "python",
   "nbconvert_exporter": "python",
   "pygments_lexer": "ipython3",
   "version": "3.12.4"
  }
 },
 "nbformat": 4,
 "nbformat_minor": 2
}
