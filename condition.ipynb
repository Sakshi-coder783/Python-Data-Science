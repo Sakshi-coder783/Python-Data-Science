{
 "cells": [
  {
   "cell_type": "code",
   "execution_count": 2,
   "metadata": {},
   "outputs": [
    {
     "name": "stdout",
     "output_type": "stream",
     "text": [
      "A\n",
      "B\n"
     ]
    }
   ],
   "source": [
    "marks = 80\n",
    "if marks >= 90:\n",
    "    print ('A+')\n",
    "if marks >= 70:\n",
    "    print ('A')\n",
    "if marks  >= 60:\n",
    "    print ('B')\n",
    "if marks <= 60:\n",
    "    print ('poor performance')\n"
   ]
  },
  {
   "cell_type": "code",
   "execution_count": 6,
   "metadata": {},
   "outputs": [
    {
     "name": "stdout",
     "output_type": "stream",
     "text": [
      "A\n"
     ]
    }
   ],
   "source": [
    "marks = 80\n",
    "if marks >= 90:\n",
    "    print ('A+')\n",
    "elif marks >= 70:\n",
    "    print ('A')\n",
    "elif marks  >= 60:\n",
    "    print ('B')\n",
    "elif marks <= 60:\n",
    "    print ('poor performance')\n",
    "else:\n",
    "    print('invalid marks')\n"
   ]
  },
  {
   "cell_type": "code",
   "execution_count": 14,
   "metadata": {},
   "outputs": [
    {
     "name": "stdout",
     "output_type": "stream",
     "text": [
      "person is eligible to vote\n"
     ]
    }
   ],
   "source": [
    "age = int(input(\"enter the age\"))\n",
    "if age>=18:\n",
    "    print(\"person is eligible to vote\")\n",
    "else:\n",
    "    print(\"person is not eligible to vote\")\n",
    "    "
   ]
  },
  {
   "cell_type": "code",
   "execution_count": 11,
   "metadata": {},
   "outputs": [
    {
     "name": "stdout",
     "output_type": "stream",
     "text": [
      "it is a vowel\n"
     ]
    }
   ],
   "source": [
    "# enter a character from user check wheather it is a vowel or not \n",
    "ch = input (\"Enter a character\")\n",
    "vowel = ['a' , 'e' , 'i' , 'o' , 'u'] \n",
    "if ch in vowel:\n",
    "    print(\"it is a vowel\")\n",
    "else:\n",
    "    print(\"it is not a vowel\")"
   ]
  },
  {
   "cell_type": "code",
   "execution_count": 12,
   "metadata": {},
   "outputs": [
    {
     "name": "stdout",
     "output_type": "stream",
     "text": [
      "it is not a vowel\n"
     ]
    }
   ],
   "source": [
    "ch = input(\"Enter a character \")\n",
    "if ch == 'a' or ch == 'e' or ch == 'i' or ch == 'o' or ch == 'u':\n",
    "    print (\"it is a  vowel\")\n",
    "else:\n",
    "    print (\"it is not a vowel\")\n",
    "    "
   ]
  },
  {
   "cell_type": "code",
   "execution_count": 17,
   "metadata": {},
   "outputs": [
    {
     "name": "stdout",
     "output_type": "stream",
     "text": [
      "even number\n"
     ]
    }
   ],
   "source": [
    "# check wheather the number is even or not \n",
    "num = int (input(\"Enter an number\")) \n",
    "if (num % 2 == 0):\n",
    "    print(\"even number\")\n",
    "else:\n",
    "    print(\"odd number \")\n",
    "\n"
   ]
  },
  {
   "cell_type": "code",
   "execution_count": 19,
   "metadata": {},
   "outputs": [
    {
     "name": "stdout",
     "output_type": "stream",
     "text": [
      "scalene triangle\n"
     ]
    }
   ],
   "source": [
    "a = int (input(\"enter first side of a triangle\"))\n",
    "b = int (input(\"enter second side of a triangle\"))\n",
    "c = int (input(\"enter third side of the triangle\"))\n",
    "if a==b==c:\n",
    "    print (\"equilateral triangle\")\n",
    "elif a==b or b==c or c==a:\n",
    "    print (\"Isosceles triangle\")\n",
    "else:\n",
    "    print(\"scalene triangle\")"
   ]
  },
  {
   "cell_type": "code",
   "execution_count": 18,
   "metadata": {},
   "outputs": [
    {
     "name": "stdout",
     "output_type": "stream",
     "text": [
      "equilateral triangle\n"
     ]
    }
   ],
   "source": [
    "s1 = 3\n",
    "s2 = 4\n",
    "s3 = 3\n",
    "if s1 == s2 == s3 or s3 == s1:\n",
    "    print (\"equilateral triangle\")\n",
    "elif s1 == s2 or s2 == s3 or s3 == s1:\n",
    "    print (\"Isosceles triangle\")\n",
    "else:\n",
    "    print(\"scalene triangle\")\n",
    "    "
   ]
  },
  {
   "cell_type": "code",
   "execution_count": null,
   "metadata": {},
   "outputs": [],
   "source": [
    "username = input(\"Enter a username\")\n",
    "email = input(\"Enter the email\")\n",
    "password = input (\"Entber a password\")\n",
    "cpasswd = input (\"Enter the confirm password\")\n",
    "if len (username)>5 and len(username)<15:\n",
    "    if'@' in email:\n",
    "        if len (password)>6 and len(password)<15\n",
    "            if password == cpasswd:\n",
    "                print(\"Registration successsful🎉🎊\")\n",
    "            else:\n",
    "                print(\"password and confirm password should be same🫡\")\n",
    "        else:\n",
    "            print(\"password is incorrect👎\")\n",
    "    else:\n",
    "        print(\"invalid email\")\n",
    "else:\n",
    "    print(\"valid email\")\n",
    "    \n"
   ]
  }
 ],
 "metadata": {
  "kernelspec": {
   "display_name": "base",
   "language": "python",
   "name": "python3"
  },
  "language_info": {
   "codemirror_mode": {
    "name": "ipython",
    "version": 3
   },
   "file_extension": ".py",
   "mimetype": "text/x-python",
   "name": "python",
   "nbconvert_exporter": "python",
   "pygments_lexer": "ipython3",
   "version": "3.12.4"
  }
 },
 "nbformat": 4,
 "nbformat_minor": 2
}
